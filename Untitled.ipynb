{
 "cells": [
  {
   "cell_type": "code",
   "execution_count": 16,
   "metadata": {},
   "outputs": [],
   "source": [
    "import numpy as np\n",
    "from scipy import signal\n",
    "import matplotlib.pyplot as plt\n",
    "import pandas as pd\n",
    "import numpy.linalg as LA # linalgモジュールはLAとしてimportするのが慣例。\n",
    "import math\n",
    "\n",
    "data = [\n",
    "    [1.94-0.01j, 1.07+1.09j, -2.05-0.03j, -0.93+0.03j],\n",
    "    [0.96+1.03j, 0.06-0.02j, -1.07-1.02j, -0.98-0.06j],\n",
    "    [-0.01+0.04j, 0.97-1.05j, 0.08+0.04j, -1.06+0.03j]\n",
    "]\n",
    "X = np.array(data)\n",
    "X = X.T"
   ]
  },
  {
   "cell_type": "code",
   "execution_count": 26,
   "metadata": {},
   "outputs": [],
   "source": [
    "M = 3  # センサアレイの数\n",
    "n = 4  # スナップショット数,つまり何個のデータセットを使うかということ\n",
    "R = [[0 for i in range(M)] for j in range(M)]"
   ]
  },
  {
   "cell_type": "code",
   "execution_count": 27,
   "metadata": {
    "scrolled": true
   },
   "outputs": [],
   "source": [
    "for i in range(M):\n",
    "    for j in range(M):\n",
    "        R_ij = 0\n",
    "        for k in range(n):\n",
    "            R_ij += X[k,i]*np.conjugate(X[k,j])\n",
    "        R[i][j] = R_ij/n\n",
    "_R = np.array(R)"
   ]
  },
  {
   "cell_type": "code",
   "execution_count": 29,
   "metadata": {},
   "outputs": [],
   "source": [
    "E_val, E_vec = LA.eig(_R) # Rの固有値e_val,固有ベクトルe_vec\n",
    "E_big_id = np.argsort(E_val)[::-1] # 固有値のソート(大きい順で、返り値はindex)\n",
    "_E_val = E_val[E_big_id] # 大きい順に並べ替えて再定義\n",
    "_E_vec = E_vec[:,E_big_id] # 固有ベクトルを大きい順に並び替え\n",
    "E=_E_vec[:,2:]"
   ]
  },
  {
   "cell_type": "code",
   "execution_count": 30,
   "metadata": {
    "scrolled": true
   },
   "outputs": [
    {
     "data": {
      "image/png": "[encoded data removed]",
      "text/plain": [
       "<Figure size 432x288 with 1 Axes>"
      ]
     },
     "metadata": {
      "needs_background": "light"
     },
     "output_type": "display_data"
    }
   ],
   "source": [
    "res = 1000\n",
    "e = np.e # ネイピア数\n",
    "div = np.pi/res #  分解能\n",
    "start = 0\n",
    "music_spec = np.zeros(res)#MUSICスペクトラグラム。到来方向のインデックスあたりにピークが立つ\n",
    "\n",
    "\"\"\"計算部分\"\"\"\n",
    "for x in range(res):\n",
    "    cos = math.cos(start)\n",
    "    _h = np.zeros(3, dtype=complex)\n",
    "    for i in range(3):\n",
    "        h_i = pow(e, (complex(0, math.sqrt(2)*2*i*np.pi*cos/4)))\n",
    "        _h[i] = h_i\n",
    "    h = _h.reshape(3,1)\n",
    "    h_t = np.conjugate(h.T) # hの共役転置\n",
    "    E_n = E\n",
    "    E_n_t = np.conjugate(E_n.T) # Enの共役転置\n",
    "    music_spec[x] = 1 / (np.dot(np.dot(np.dot(h_t, E_n), E_n_t), h).real)\n",
    "    start += div\n",
    "\"\"\"可視化処理\"\"\"\n",
    "x_axis = np.linspace(0, 180, res)\n",
    "plt.plot(x_axis, music_spec)\n",
    "plt.xlabel(\"Angle[°]\")\n",
    "plt.show()"
   ]
  },
  {
   "cell_type": "code",
   "execution_count": 31,
   "metadata": {},
   "outputs": [
    {
     "data": {
      "image/png": "[encoded data removed]",
      "text/plain": [
       "<Figure size 432x288 with 1 Axes>"
      ]
     },
     "metadata": {
      "needs_background": "light"
     },
     "output_type": "display_data"
    }
   ],
   "source": [
    "res = 1000\n",
    "e = np.e # ネイピア数\n",
    "div = np.pi/res #  分解能\n",
    "start = 0\n",
    "BF_spec = np.zeros(res) #ビームフォーミングスペクトラグラム。到来方向のインデックスあたりにピークが立つ\n",
    "\n",
    "\"\"\"計算部分\"\"\"\n",
    "for x in range(res):\n",
    "    cos = math.cos(start)\n",
    "    _h = np.zeros(3, dtype=complex)\n",
    "    for i in range(3):\n",
    "        h_i = pow(e, (complex(0, math.sqrt(2)*2*i*np.pi*cos/4)))\n",
    "        _h[i] = h_i\n",
    "    h = _h.reshape(3,1)\n",
    "    h_t = np.conjugate(h.T) # hの共役転置\n",
    "    BF = np.dot(np.dot(h_t, _R), h)\n",
    "    BF_spec[x] = BF.real\n",
    "    start += div\n",
    "\"\"\"可視化処理\"\"\"\n",
    "x_axis = np.linspace(0, 180, res)\n",
    "plt.plot(x_axis, BF_spec)\n",
    "plt.xlabel(\"Angle[°]\")\n",
    "plt.show()"
   ]
  },
  {
   "cell_type": "code",
   "execution_count": null,
   "metadata": {},
   "outputs": [],
   "source": []
  },
  {
   "cell_type": "code",
   "execution_count": null,
   "metadata": {},
   "outputs": [],
   "source": []
  }
 ],
 "metadata": {
  "kernelspec": {
   "display_name": "Python 3",
   "language": "python",
   "name": "python3"
  },
  "language_info": {
   "codemirror_mode": {
    "name": "ipython",
    "version": 3
   },
   "file_extension": ".py",
   "mimetype": "text/x-python",
   "name": "python",
   "nbconvert_exporter": "python",
   "pygments_lexer": "ipython3",
   "version": "3.7.4"
  }
 },
 "nbformat": 4,
 "nbformat_minor": 4
}
